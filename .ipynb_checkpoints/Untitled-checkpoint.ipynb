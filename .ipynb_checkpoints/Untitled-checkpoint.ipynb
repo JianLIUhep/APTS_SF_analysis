{
 "cells": [
  {
   "cell_type": "code",
   "execution_count": 3,
   "id": "33f60ebc",
   "metadata": {},
   "outputs": [],
   "source": [
    "\n",
    "import matplotlib as mpl\n",
    "import matplotlib.pyplot as plt"
   ]
  },
  {
   "cell_type": "code",
   "execution_count": 15,
   "id": "c22dd91f",
   "metadata": {},
   "outputs": [],
   "source": [
    "color = ['black','blue','red','green','orange','pink','yellow','grey']"
   ]
  },
  {
   "cell_type": "code",
   "execution_count": 24,
   "id": "3377d7b6",
   "metadata": {},
   "outputs": [],
   "source": [
    "\n",
    "#giacomo@giacomox1:~/APTS_SF_analysis$ python eff_res_plotter.py configs/af15p.yaml \n",
    "efficiency=  [99.94365403577969, 99.79522184300342, 99.53514579518242, 99.12663755458514, 98.60543738554726, 96.11212846879842, 91.74531624172418, 84.92745457106635]\n",
    "resolution=  [3.293528705138325, 3.5131400691247374, 3.5596037362042496, 3.6620517533194885, 3.7390177039328787, 3.83567493627712, 3.8955319803981627, 3.8905674977358276]\n",
    "#giacomo@giacomox1:~/APTS_SF_analysis$ python eff_res_plotter.py configs/af15p.yaml -f\n",
    "efficiency_fit=  [99.94365403577969, 99.79522184300342, 99.53514579518242, 99.12663755458514, 98.60543738554726, 96.11212846879842, 91.74531624172418, 84.92745457106635]\n",
    "resolution_fit=  [3.0508029958795357, 3.1861576019029885, 3.2334867366612063, 3.332851939583989, 3.3910337261360186, 3.466055904938944, 3.516986173249662, 3.5132917468621487]\n",
    "#giacomo@giacomox1:~/APTS_SF_analysis$ python eff_res_plotter.py configs/af15p.yaml -f -n\n",
    "efficiency_fit_90 = [99.94365403577969, 99.79522184300342, 99.53514579518242, 99.12663755458514, 98.60543738554726, 96.11212846879842, 91.74531624172418, 84.92745457106635]\n",
    "resolution_fit_90 = [3.3413177433346233, 3.8824455265780236, 4.175488438550053, 4.377404558936723, 4.604039066347701, 5.030871123693786, 5.223861061498364, 4.995250952191769]\n",
    "#giacomo@giacomox1:~/APTS_SF_analysis$ python eff_res_plotter.py configs/af15p.yaml -n\n",
    "efficiency_90=  [99.94365403577969, 99.79522184300342, 99.53514579518242, 99.12663755458514, 98.60543738554726, 96.11212846879842, 91.74531624172418, 84.92745457106635]\n",
    "resolution_90=  [2.4413580947671853, 2.6843511254675567, 2.777166395073898, 2.824065583304684, 2.988806731519639, 3.0551059013574866, 3.142861586152021, 3.105367353329463]\n",
    "#giacomo@giacomox1:~/APTS_SF_analysis$ python eff_res_plotter.py configs/af15p.yaml -q\n",
    "efficiency_qfit=  [99.94365403577969, 99.79522184300342, 99.53514579518242, 99.12663755458514, 98.60543738554726, 96.11212846879842, 91.74531624172418, 84.92745457106635]\n",
    "resolution_qfit=  [3.0496485770924764, 3.184831749639565, 3.2322727895415166, 3.331543955572811, 3.3896671033490815, 3.4646644622955955, 3.515656666255145, 3.5120812412711597]\n",
    "charge=  [100.19207996481393, 125.2400999560174, 150.28811994722088, 175.33613993842437, 200.38415992962786, 250.4801999120348, 313.10024989004353, 375.7202998680522]\n"
   ]
  },
  {
   "cell_type": "code",
   "execution_count": 27,
   "id": "ffdb4778",
   "metadata": {},
   "outputs": [
    {
     "data": {
      "text/plain": [
       "<matplotlib.legend.Legend at 0x7f8e3763bf70>"
      ]
     },
     "execution_count": 27,
     "metadata": {},
     "output_type": "execute_result"
    },
    {
     "data": {
      "image/png": "[encoded data removed]",
      "text/plain": [
       "<Figure size 792x360 with 1 Axes>"
      ]
     },
     "metadata": {
      "needs_background": "light"
     },
     "output_type": "display_data"
    }
   ],
   "source": [
    "fig_resmean_vs_thr, ax_resmean_vs_thr = plt.subplots(figsize=(11, 5))\n",
    "plt.subplots_adjust(left=0.07, right=0.75, top=0.95)\n",
    "\n",
    "ax_resmean_vs_thr.errorbar([], [], ([], []), label=\"resolution\",\n",
    "                           marker='s', linestyle='dashed', elinewidth=1.3, capsize=1.5, color='dimgrey')\n",
    "\n",
    "#asymmetric_error_y = [err_res_low_mean, err_res_up_mean]\n",
    "ax_resmean_vs_thr.errorbar(charge, resolution,\n",
    "                               label=\"RMS\", marker=\"s\", linestyle='', color=color[0])\n",
    "ax_resmean_vs_thr.errorbar(charge, resolution_90,\n",
    "                               label=\"RMS 90% most central\", marker=\"s\", linestyle='', color=color[1])\n",
    "ax_resmean_vs_thr.errorbar(charge, resolution_fit_90,\n",
    "                               label=\"gaussian fit\", marker=\"s\", linestyle='', color=color[2])\n",
    "ax_resmean_vs_thr.errorbar(charge, resolution_qfit,\n",
    "                               label=\"q-gaussian fit\", marker=\"s\", linestyle='', color=color[3])\n",
    "\n",
    "ax_resmean_vs_thr.set_ylabel('Resolution (um)')\n",
    "ax_cluster_size_mean.set_ylabel('Average Cluster size (pixel)')\n",
    "ax_resmean_vs_thr.set_xlabel('Threshold (electrons)')\n",
    "ax_resmean_vs_thr.legend(\n",
    "    loc='lower right', bbox_to_anchor=(1.35, -0.02), prop={\"size\": 9})"
   ]
  },
  {
   "cell_type": "code",
   "execution_count": 28,
   "id": "b55942d5",
   "metadata": {},
   "outputs": [
    {
     "ename": "NameError",
     "evalue": "name 'plots_dir' is not defined",
     "output_type": "error",
     "traceback": [
      "\u001b[0;31m---------------------------------------------------------------------------\u001b[0m",
      "\u001b[0;31mNameError\u001b[0m                                 Traceback (most recent call last)",
      "\u001b[0;32m<ipython-input-28-d6e2ec45ca2f>\u001b[0m in \u001b[0;36m<module>\u001b[0;34m\u001b[0m\n\u001b[0;32m----> 1\u001b[0;31m fig_resmean_vs_thr.savefig(plots_dir+'/resVsClustersize_list_' +\n\u001b[0m\u001b[1;32m      2\u001b[0m                        FILE_SUFFIX+'_'+fit_label+'.png', dpi=600)\n",
      "\u001b[0;31mNameError\u001b[0m: name 'plots_dir' is not defined"
     ]
    }
   ],
   "source": [
    "fig_resmean_vs_thr.savefig('comparison.png', dpi=600)"
   ]
  },
  {
   "cell_type": "code",
   "execution_count": null,
   "id": "6f273473",
   "metadata": {},
   "outputs": [],
   "source": []
  }
 ],
 "metadata": {
  "kernelspec": {
   "display_name": "Python 3",
   "language": "python",
   "name": "python3"
  },
  "language_info": {
   "codemirror_mode": {
    "name": "ipython",
    "version": 3
   },
   "file_extension": ".py",
   "mimetype": "text/x-python",
   "name": "python",
   "nbconvert_exporter": "python",
   "pygments_lexer": "ipython3",
   "version": "3.9.12"
  }
 },
 "nbformat": 4,
 "nbformat_minor": 5
}
